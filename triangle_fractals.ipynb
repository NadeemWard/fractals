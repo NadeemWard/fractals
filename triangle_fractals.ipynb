{
 "cells": [
  {
   "cell_type": "markdown",
   "id": "f7e28496-6b75-4933-8e13-00c63e902069",
   "metadata": {},
   "source": [
    "# Ideas"
   ]
  },
  {
   "cell_type": "markdown",
   "id": "1663736e-05fd-4a8e-a9f2-898b15cfe7db",
   "metadata": {},
   "source": [
    "- Have a visualization where you have an isoceles triangle and you drag the point to see how much you are scaling the distance by\n",
    "- draw of the isoceles triangle to clarify a few things"
   ]
  },
  {
   "cell_type": "markdown",
   "id": "cac065d6-81a8-4c6d-b82a-80b5e3955265",
   "metadata": {},
   "source": [
    "# Generating fractal triangles"
   ]
  },
  {
   "cell_type": "code",
   "execution_count": 15,
   "id": "d13af9b0-cb18-4623-8d06-87d5c42fff75",
   "metadata": {},
   "outputs": [],
   "source": [
    "import numpy as np\n",
    "import matplotlib.pyplot as plt"
   ]
  },
  {
   "cell_type": "code",
   "execution_count": 16,
   "id": "fb6dc81c-5154-47fa-b080-7802babf5972",
   "metadata": {},
   "outputs": [],
   "source": [
    "DEPTH = 3          # number of levels of the pattern to generate\n",
    "NUM_TRIANGLES = 4  # number of triangles to include in pattern\n",
    "SCALE = 0.2        # How much do you want the triangles to scale the length of a straight line "
   ]
  },
  {
   "cell_type": "markdown",
   "id": "8d31a46d-53b5-4d19-b353-38d7798c5525",
   "metadata": {},
   "source": [
    "What should be the length of the sides of a triangle such that it scales the total length of a straight line by `SCALE`?\n",
    "\n",
    "Assuming we are creating isoceles triangles, we can think of the straight line as the base of the triangle and we can think of the length as the sum of the two equal sides. Therefore the question boils down to how do we define the triangle such that: \n",
    "\n",
    "$$ \n",
    "2 * side = base * scale \\implies side = base * scale / 2\n",
    "$$ "
   ]
  },
  {
   "cell_type": "markdown",
   "id": "69b17b1d-44a7-4431-92be-f449bfc6b900",
   "metadata": {},
   "source": [
    "<center>\n",
    "    <!-- <img src=\"equilateral-triangle.png\" width=500 height=500 /> -->\n",
    "    <img src=\"IsoscelesTriangle_800.svg\" width=300 height=300 />\n",
    "</center>\n"
   ]
  },
  {
   "cell_type": "markdown",
   "id": "0c09c292-036e-408a-b13b-922731cd30e6",
   "metadata": {},
   "source": [
    "How do I get the coordinates of the third point such that the above holds? we know that the third point as x coor which is the middle of base and a hypothenus of $scale/2$ for the right angle triangle formed by the height of the triangle. Therefore we can determine the height of the triangle as \n",
    "$$\n",
    "hypotenus = base *scale / 2\n",
    "$$\n",
    "$$\n",
    "height = \\sqrt{hypothenus^2 - {(\\frac{base}{2})}^2} \\implies height = \\sqrt{ {(\\frac{base *scale}{2})}^2 - (\\frac{base}{2})^2}\n",
    "$$\n",
    "\n",
    "Finally, this gives us the third point on the triangle as $p = \\Big(\\frac{base}{2}, \\sqrt{ {(\\frac{base * scale}{2})}^2 - {(\\frac{base}{2})}^2}\\Big)$"
   ]
  },
  {
   "cell_type": "markdown",
   "id": "84471ea3-1899-4160-89b3-67f86f3b7466",
   "metadata": {},
   "source": [
    "If we want to scale this to $n$ triangles then it is as if we divide the original base by $n$ and then work on $n$ isoceles triangles of base size $base/n$"
   ]
  },
  {
   "cell_type": "code",
   "execution_count": 36,
   "id": "b94b825d-63b2-4ee4-9dd1-3c140dd8178e",
   "metadata": {},
   "outputs": [],
   "source": [
    "Point = lambda x: np.array(x)"
   ]
  },
  {
   "cell_type": "code",
   "execution_count": 37,
   "id": "d0e09d74-e483-4495-bc10-0a80e612c114",
   "metadata": {},
   "outputs": [
    {
     "ename": "SyntaxError",
     "evalue": "incomplete input (19567951.py, line 6)",
     "output_type": "error",
     "traceback": [
      "\u001b[0;36m  Cell \u001b[0;32mIn[37], line 6\u001b[0;36m\u001b[0m\n\u001b[0;31m    return np.array([\u001b[0m\n\u001b[0m                     ^\u001b[0m\n\u001b[0;31mSyntaxError\u001b[0m\u001b[0;31m:\u001b[0m incomplete input\n"
     ]
    }
   ],
   "source": [
    "p1 = Point([2, 0])\n",
    "p2 = Point([0, 0])\n",
    "\n",
    "def compute_scale_point(p1, p2, scale):\n",
    "    base = np.linalg.norm(p1 - p2)\n",
    "    return Point(["
   ]
  },
  {
   "cell_type": "code",
   "execution_count": 35,
   "id": "d9d17c6a-190e-4851-99b2-a9e38a20b0a0",
   "metadata": {},
   "outputs": [
    {
     "data": {
      "text/plain": [
       "2.0"
      ]
     },
     "execution_count": 35,
     "metadata": {},
     "output_type": "execute_result"
    }
   ],
   "source": [
    "compute_scale_point(p1, p2, 1)"
   ]
  },
  {
   "cell_type": "markdown",
   "id": "e74a1abf-5834-4eb2-ba11-dc01c88d0a8e",
   "metadata": {},
   "source": [
    "# Ipython widgets"
   ]
  },
  {
   "cell_type": "code",
   "execution_count": 6,
   "id": "248e29af-ae5b-4f96-8e82-e43a6281bf32",
   "metadata": {},
   "outputs": [],
   "source": [
    "from ipywidgets import interact, interactive, fixed, interact_manual\n",
    "import ipywidgets as widgets"
   ]
  },
  {
   "cell_type": "code",
   "execution_count": 12,
   "id": "c0e8844c-48cf-4a5e-b8ef-62bb30418ed3",
   "metadata": {},
   "outputs": [],
   "source": [
    "def f(x):\n",
    "    plt.plot([x], [1], 'bo')\n",
    "    plt.show()"
   ]
  },
  {
   "cell_type": "code",
   "execution_count": 13,
   "id": "d47bb094-b89f-4462-8573-d3cfe9aa2311",
   "metadata": {},
   "outputs": [
    {
     "data": {
      "application/vnd.jupyter.widget-view+json": {
       "model_id": "481459d470fc4074bf7a111618834b60",
       "version_major": 2,
       "version_minor": 0
      },
      "text/plain": [
       "interactive(children=(IntSlider(value=10, description='x', max=30, min=-10), Output()), _dom_classes=('widget-…"
      ]
     },
     "metadata": {},
     "output_type": "display_data"
    }
   ],
   "source": [
    "interact(f, x=10);"
   ]
  },
  {
   "cell_type": "code",
   "execution_count": null,
   "id": "ef4e5941-21ba-484f-9d37-f67016cba530",
   "metadata": {},
   "outputs": [],
   "source": []
  }
 ],
 "metadata": {
  "kernelspec": {
   "display_name": "Python 3 (ipykernel)",
   "language": "python",
   "name": "python3"
  },
  "language_info": {
   "codemirror_mode": {
    "name": "ipython",
    "version": 3
   },
   "file_extension": ".py",
   "mimetype": "text/x-python",
   "name": "python",
   "nbconvert_exporter": "python",
   "pygments_lexer": "ipython3",
   "version": "3.11.2"
  }
 },
 "nbformat": 4,
 "nbformat_minor": 5
}
